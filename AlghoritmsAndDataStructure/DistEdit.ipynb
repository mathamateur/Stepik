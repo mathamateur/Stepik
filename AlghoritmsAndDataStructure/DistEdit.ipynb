{
 "cells": [
  {
   "cell_type": "code",
   "execution_count": 26,
   "metadata": {},
   "outputs": [
    {
     "name": "stdout",
     "output_type": "stream",
     "text": [
      "aca\n",
      "cac\n",
      "2\n"
     ]
    }
   ],
   "source": [
    "a, b = input(), input()\n",
    "n, m = len(a), len(b)\n",
    "st_num = 1\n",
    "prev = [j for j in range(m+1)]\n",
    "cur = [0] * (m+1)\n",
    "for i in range(1,n+1):\n",
    "    for j in range(m+1):\n",
    "        if j == 0:\n",
    "            cur[0] = st_num\n",
    "            st_num += 1\n",
    "            continue\n",
    "        c = (lambda x,y: 0 if x == y else 1)(a[i-1],b[j-1])\n",
    "        cur[j] = min(prev[j]+1,cur[j-1]+1,prev[j-1]+c)\n",
    "    prev = cur\n",
    "    if i < n:\n",
    "        cur = [0] * (m+1)\n",
    "print(cur[-1])\n"
   ]
  },
  {
   "cell_type": "code",
   "execution_count": null,
   "metadata": {},
   "outputs": [],
   "source": []
  }
 ],
 "metadata": {
  "kernelspec": {
   "display_name": "Python 3",
   "language": "python",
   "name": "python3"
  },
  "language_info": {
   "codemirror_mode": {
    "name": "ipython",
    "version": 3
   },
   "file_extension": ".py",
   "mimetype": "text/x-python",
   "name": "python",
   "nbconvert_exporter": "python",
   "pygments_lexer": "ipython3",
   "version": "3.7.4"
  }
 },
 "nbformat": 4,
 "nbformat_minor": 4
}
