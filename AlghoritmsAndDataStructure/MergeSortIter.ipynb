{
 "cells": [
  {
   "cell_type": "code",
   "execution_count": 39,
   "metadata": {},
   "outputs": [
    {
     "name": "stdout",
     "output_type": "stream",
     "text": [
      "1\n",
      "1\n",
      "0\n"
     ]
    }
   ],
   "source": [
    "def merge(a,b):\n",
    "    global k\n",
    "    i,j,res = 0,0,[]\n",
    "    p = len(a)\n",
    "    q = len(b)\n",
    "    while True:\n",
    "        if min(p-i,q-j) == 0:\n",
    "            if p - i == 0:\n",
    "                res += b[j:]\n",
    "            else:\n",
    "                res += a[i:]\n",
    "            break\n",
    "        if b[j] < a[i]:\n",
    "            res.append(b[j])\n",
    "            k += p - i\n",
    "            j += 1\n",
    "        else:\n",
    "            res.append(a[i])\n",
    "            i += 1\n",
    "    return res\n",
    "            \n",
    "                     \n",
    "n = int(input())\n",
    "deq = list(map(lambda x: [int(x)],input().split()))\n",
    "k = 0\n",
    "while len(deq) > 1:\n",
    "    ld = len(deq)\n",
    "    i = 0\n",
    "    nd = []\n",
    "    while i < ld - 1:\n",
    "        nd.append(merge(deq[i],deq[i+1]))\n",
    "        i += 2\n",
    "    if not ld%2 == 0:\n",
    "        nd.append(deq[-1])\n",
    "    deq = nd    \n",
    "print(k)"
   ]
  },
  {
   "cell_type": "code",
   "execution_count": null,
   "metadata": {},
   "outputs": [],
   "source": []
  }
 ],
 "metadata": {
  "kernelspec": {
   "display_name": "Python 3",
   "language": "python",
   "name": "python3"
  },
  "language_info": {
   "codemirror_mode": {
    "name": "ipython",
    "version": 3
   },
   "file_extension": ".py",
   "mimetype": "text/x-python",
   "name": "python",
   "nbconvert_exporter": "python",
   "pygments_lexer": "ipython3",
   "version": "3.7.4"
  }
 },
 "nbformat": 4,
 "nbformat_minor": 4
}
