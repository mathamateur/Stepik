{
 "cells": [
  {
   "cell_type": "code",
   "execution_count": 29,
   "metadata": {},
   "outputs": [
    {
     "name": "stdout",
     "output_type": "stream",
     "text": [
      "4\n",
      "4 3 2 1\n",
      "4\n",
      "1 2 3 4 "
     ]
    },
    {
     "data": {
      "text/plain": [
       "[None, None, None, None]"
      ]
     },
     "execution_count": 29,
     "metadata": {},
     "output_type": "execute_result"
    }
   ],
   "source": [
    "def LowerBound(A,x):\n",
    "    l = 0\n",
    "    r = len(A)\n",
    "    while r - l > 1:\n",
    "        m = (l + r)// 2\n",
    "        if A[m] >= x:\n",
    "            l = m\n",
    "        else:\n",
    "            r = m\n",
    "    return r\n",
    " \n",
    "    \n",
    "n = int(input())\n",
    "a = list(map(int,input().split()))\n",
    "inf = 10**10\n",
    "d = [-1] * (n + 1)\n",
    "d[0] = inf\n",
    "prev = [-1] * (n+1)\n",
    "ind = [-1] * (n+1)\n",
    "for i in range(n):\n",
    "    j = LowerBound(d,a[i])\n",
    "    if d[j-1] >= a[i] and d[j] < a[i]:\n",
    "        d[j] = a[i]\n",
    "        prev[j] = i\n",
    "        ind[i] = prev[j-1]\n",
    "st = 0\n",
    "for t in range(1,n+1):\n",
    "    if prev[t] > -1:\n",
    "        st = prev[t]\n",
    "    else:\n",
    "        break\n",
    "ans = []\n",
    "ans.append(st)\n",
    "while ind[st] > -1:\n",
    "    ans.append(ind[st])\n",
    "    st = ind[st]\n",
    "print(len(ans))\n",
    "[print(ans[i]+1,end=\" \") for i in range(len(ans)-1,-1,-1)]"
   ]
  },
  {
   "cell_type": "code",
   "execution_count": null,
   "metadata": {},
   "outputs": [],
   "source": []
  }
 ],
 "metadata": {
  "kernelspec": {
   "display_name": "Python 3",
   "language": "python",
   "name": "python3"
  },
  "language_info": {
   "codemirror_mode": {
    "name": "ipython",
    "version": 3
   },
   "file_extension": ".py",
   "mimetype": "text/x-python",
   "name": "python",
   "nbconvert_exporter": "python",
   "pygments_lexer": "ipython3",
   "version": "3.7.4"
  }
 },
 "nbformat": 4,
 "nbformat_minor": 4
}
