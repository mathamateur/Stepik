{
 "cells": [
  {
   "cell_type": "code",
   "execution_count": 14,
   "metadata": {},
   "outputs": [
    {
     "name": "stdout",
     "output_type": "stream",
     "text": [
      "5\n",
      "5 4 3 2 1\n",
      "1 2 3 4 5\n"
     ]
    }
   ],
   "source": [
    "b = [0 for i in range(10)]\n",
    "n = int(input())\n",
    "a = list(map(int,input().split()))\n",
    "for i in range(n):\n",
    "    b[a[i]-1] += 1\n",
    "for t in range(1,10):\n",
    "    b[t] += b[t-1]\n",
    "ans = [0 for i in range(n)]\n",
    "for j in a[-1::-1]:\n",
    "    ans[b[j-1]-1] = j\n",
    "    b[j-1] -= 1\n",
    "print(*ans)"
   ]
  },
  {
   "cell_type": "code",
   "execution_count": null,
   "metadata": {},
   "outputs": [],
   "source": []
  }
 ],
 "metadata": {
  "kernelspec": {
   "display_name": "Python 3",
   "language": "python",
   "name": "python3"
  },
  "language_info": {
   "codemirror_mode": {
    "name": "ipython",
    "version": 3
   },
   "file_extension": ".py",
   "mimetype": "text/x-python",
   "name": "python",
   "nbconvert_exporter": "python",
   "pygments_lexer": "ipython3",
   "version": "3.7.4"
  }
 },
 "nbformat": 4,
 "nbformat_minor": 4
}
