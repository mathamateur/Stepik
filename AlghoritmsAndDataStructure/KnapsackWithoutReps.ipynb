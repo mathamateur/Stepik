{
 "cells": [
  {
   "cell_type": "code",
   "execution_count": 27,
   "metadata": {},
   "outputs": [
    {
     "name": "stdout",
     "output_type": "stream",
     "text": [
      "8 3\n",
      "2 4 5\n",
      "7\n"
     ]
    }
   ],
   "source": [
    "w,n = map(int,input().split())\n",
    "wi = list(map(int,input().split()))\n",
    "prev = [0] * (w + 1)\n",
    "cur = [0] * (w + 1)\n",
    "for i in range(1,n+1):\n",
    "    for j in range(1,w+1):\n",
    "        cur[j] = prev[j]\n",
    "        if wi[i-1] <= j:\n",
    "            cur[j] = max(cur[j],prev[j-wi[i-1]]+wi[i-1])\n",
    "    prev = cur\n",
    "    if i < n:\n",
    "        cur = [0] * (w + 1)\n",
    "print(cur[w])"
   ]
  },
  {
   "cell_type": "code",
   "execution_count": null,
   "metadata": {},
   "outputs": [],
   "source": []
  }
 ],
 "metadata": {
  "kernelspec": {
   "display_name": "Python 3",
   "language": "python",
   "name": "python3"
  },
  "language_info": {
   "codemirror_mode": {
    "name": "ipython",
    "version": 3
   },
   "file_extension": ".py",
   "mimetype": "text/x-python",
   "name": "python",
   "nbconvert_exporter": "python",
   "pygments_lexer": "ipython3",
   "version": "3.7.4"
  }
 },
 "nbformat": 4,
 "nbformat_minor": 4
}
