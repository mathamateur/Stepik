{
 "cells": [
  {
   "cell_type": "code",
   "execution_count": 5,
   "metadata": {},
   "outputs": [
    {
     "name": "stdout",
     "output_type": "stream",
     "text": [
      "[-2, -1] [-1, 0] [0, 1] [1, 2] [2, 3] [-1, 3] [1, 3] [-2, 3] [0, 3] [2, 3]\n",
      "[-2, 3] [-2, -1] [-1, 0] [-1, 3] [0, 1] [0, 3] [1, 2] [1, 3] [2, 3] [2, 3]\n",
      "[-2, -1] [-1, 0] [0, 1] [1, 2] [2, 3] [-1, 3] [1, 3] [-2, 3] [0, 3] [2, 3]\n",
      "0 4 5 6 6\n"
     ]
    }
   ],
   "source": [
    "from random import randint\n",
    "import sys\n",
    "\n",
    "\n",
    "def quick_sort(A,l,r,p):\n",
    "    while l < r:\n",
    "        g = partition(A,l,r,p)\n",
    "        quick_sort(A,l,g[0]-1,p)\n",
    "        l = g[1]+1\n",
    "    return A\n",
    "\n",
    "\n",
    "def partition(A,l,r,p):\n",
    "    z = randint(l,r)\n",
    "    x = A[z][p]\n",
    "    A[l],A[z] = A[z],A[l]\n",
    "    i = l\n",
    "    for t in range(l+1,r+1):\n",
    "        if A[t][p] < x:\n",
    "            i += 1\n",
    "            A[i],A[t] = A[t],A[i]\n",
    "    A[l],A[i] = A[i],A[l]\n",
    "    j = i\n",
    "    for t in range(i+1,r+1):\n",
    "        if A[t][p] == x:\n",
    "            j += 1\n",
    "            A[j],A[t] = A[t],A[j]\n",
    "    return [i,j]\n",
    "\n",
    "\n",
    "\n",
    "file= open(r\"C:\\Users\\Aleksandr\\Input.txt\")\n",
    "input = file.readline\n",
    "n,m = map(int,input().split())\n",
    "secr = quick_sort([list(map(int,input().split())) for i in range(n)],0,n-1,1)\n",
    "secl = secr.copy()\n",
    "secl = quick_sort(secl,0,n-1,0)\n",
    "h = 0\n",
    "dots = []\n",
    "s = map(int,input().split())\n",
    "for j in s:\n",
    "    dots.append([j,h])\n",
    "    h += 1\n",
    "dots = quick_sort(dots,0,m-1,0)\n",
    "ans = [0 for _ in range(m)]\n",
    "j,t = 0,0\n",
    "dl,dr = 0,0\n",
    "for i in range(m):\n",
    "    fl,fr = True,True\n",
    "    while fl or fr:\n",
    "        if j < n and dots[i][0] >= secl[j][0]:\n",
    "            dl += 1\n",
    "            j += 1\n",
    "        else:\n",
    "            fl = False\n",
    "        if t < n and dots[i][0] > secr[t][1]:\n",
    "            dr += 1\n",
    "            t += 1\n",
    "        else:\n",
    "            fr = False\n",
    "    ans[dots[i][1]] = dl - dr           \n",
    "print(*ans)"
   ]
  },
  {
   "cell_type": "code",
   "execution_count": null,
   "metadata": {},
   "outputs": [],
   "source": []
  }
 ],
 "metadata": {
  "kernelspec": {
   "display_name": "Python 3",
   "language": "python",
   "name": "python3"
  },
  "language_info": {
   "codemirror_mode": {
    "name": "ipython",
    "version": 3
   },
   "file_extension": ".py",
   "mimetype": "text/x-python",
   "name": "python",
   "nbconvert_exporter": "python",
   "pygments_lexer": "ipython3",
   "version": "3.7.4"
  }
 },
 "nbformat": 4,
 "nbformat_minor": 4
}
