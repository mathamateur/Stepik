{
 "cells": [
  {
   "cell_type": "code",
   "execution_count": 40,
   "metadata": {},
   "outputs": [
    {
     "name": "stdout",
     "output_type": "stream",
     "text": [
      "1 124.42857142857143\n",
      "2 130.8\n",
      "3 134.16666666666666\n",
      "4 140.30769230769232\n",
      "5 145.0\n",
      "6 155.0\n",
      "7 160.2\n",
      "8 162.0\n",
      "9 169.85714285714286\n",
      "10 168.8\n",
      "11 176.33333333333334\n"
     ]
    },
    {
     "data": {
      "text/plain": [
       "[None, None, None, None, None, None, None, None, None, None, None]"
      ]
     },
     "execution_count": 40,
     "metadata": {},
     "output_type": "execute_result"
    }
   ],
   "source": [
    "data = [[] for i in range(11)]\n",
    "with open(r\"Input.txt\") as f:\n",
    "    [data[int(i.split()[0])-1].append(float(i.split()[2])) for i in f.readlines()]\n",
    "[print(i+1,sum(data[i])/len(data[i])) if len(data[i]) > 0 else print(i+1,\"-\") for i in range(11)]"
   ]
  },
  {
   "cell_type": "code",
   "execution_count": null,
   "metadata": {},
   "outputs": [],
   "source": []
  }
 ],
 "metadata": {
  "kernelspec": {
   "display_name": "Python 3",
   "language": "python",
   "name": "python3"
  },
  "language_info": {
   "codemirror_mode": {
    "name": "ipython",
    "version": 3
   },
   "file_extension": ".py",
   "mimetype": "text/x-python",
   "name": "python",
   "nbconvert_exporter": "python",
   "pygments_lexer": "ipython3",
   "version": "3.7.4"
  }
 },
 "nbformat": 4,
 "nbformat_minor": 4
}
