{
 "cells": [
  {
   "cell_type": "code",
   "execution_count": 52,
   "metadata": {},
   "outputs": [
    {
     "name": "stdout",
     "output_type": "stream",
     "text": [
      "96234\n",
      "14\n",
      "1 3 9 10 11 33 99 297 891 2673 8019 16038 16039 48117 96234\n"
     ]
    }
   ],
   "source": [
    "n = int(input())\n",
    "inf = 10**6\n",
    "d = [inf] * (n + 1)\n",
    "d[0] = 0\n",
    "ans = [n]\n",
    "prev = [0] * (n + 1)\n",
    "prev[0] = -1\n",
    "if n >= 1:\n",
    "    prev[1] = -1\n",
    "if n >= 2:\n",
    "    prev[2] = 1\n",
    "for i in range(1,n+1):\n",
    "    if i < 3:\n",
    "        d[i] = i - 1\n",
    "    else:\n",
    "        one,two,three = d[i-1],d[i-1],d[i-1]\n",
    "        a = i - 1\n",
    "        if i % 2 == 0:\n",
    "            two = d[i//2]\n",
    "        if i % 3 == 0:\n",
    "            three = d[i//3]\n",
    "        d[i] = min(one,two,three) + 1\n",
    "        if min(one,two,three) == two and i % 2 == 0:\n",
    "            a = i // 2\n",
    "        elif min(one,two,three) == three and i % 3 == 0:\n",
    "            a = i // 3\n",
    "        prev[i] = a\n",
    "print(d[n])\n",
    "i = n\n",
    "while prev[i] > -1:\n",
    "    ans.append(prev[i])\n",
    "    i = prev[i]\n",
    "print(*ans[::-1])"
   ]
  },
  {
   "cell_type": "code",
   "execution_count": null,
   "metadata": {},
   "outputs": [],
   "source": []
  }
 ],
 "metadata": {
  "kernelspec": {
   "display_name": "Python 3",
   "language": "python",
   "name": "python3"
  },
  "language_info": {
   "codemirror_mode": {
    "name": "ipython",
    "version": 3
   },
   "file_extension": ".py",
   "mimetype": "text/x-python",
   "name": "python",
   "nbconvert_exporter": "python",
   "pygments_lexer": "ipython3",
   "version": "3.7.4"
  }
 },
 "nbformat": 4,
 "nbformat_minor": 4
}
