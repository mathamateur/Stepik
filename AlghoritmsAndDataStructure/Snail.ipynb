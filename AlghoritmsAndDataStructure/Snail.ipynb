{
 "cells": [
  {
   "cell_type": "code",
   "execution_count": 45,
   "metadata": {},
   "outputs": [
    {
     "name": "stdout",
     "output_type": "stream",
     "text": [
      "10\n",
      "1 2 3 4 5 6 7 8 9 10\n",
      "36 37 38 39 40 41 42 43 44 11\n",
      "35 64 65 66 67 68 69 70 45 12\n",
      "34 63 84 85 86 87 88 71 46 13\n",
      "33 62 83 96 97 98 89 72 47 14\n",
      "32 61 82 95 100 99 90 73 48 15\n",
      "31 60 81 94 93 92 91 74 49 16\n",
      "30 59 80 79 78 77 76 75 50 17\n",
      "29 58 57 56 55 54 53 52 51 18\n",
      "28 27 26 25 24 23 22 21 20 19\n"
     ]
    },
    {
     "data": {
      "text/plain": [
       "[None, None, None, None, None, None, None, None, None, None]"
      ]
     },
     "execution_count": 45,
     "metadata": {},
     "output_type": "execute_result"
    }
   ],
   "source": [
    "import numpy as np\n",
    "n = int(input())\n",
    "a = np.zeros((n,n),int)\n",
    "e = n\n",
    "i,j = 0,0\n",
    "r,c = 0,1\n",
    "ch = 0\n",
    "k = 1\n",
    "while k <= n**2:\n",
    "    for y in range(e if not ch%4 == 1 else e-1):\n",
    "        a[i][j] = k\n",
    "        i += r\n",
    "        j += c\n",
    "        k += 1\n",
    "    ch += 1\n",
    "    if r == 0:\n",
    "        j -= c\n",
    "        if ch // 2 % 2 == 1:\n",
    "            r = -1\n",
    "            e -= 1\n",
    "        else:\n",
    "            r = 1\n",
    "        i += r\n",
    "        c = 0\n",
    "    else:\n",
    "        i -= r\n",
    "        if ch // 2 % 2 == 1:\n",
    "            c = -1\n",
    "            e -= 1\n",
    "        else:\n",
    "            c = 1\n",
    "        j += c\n",
    "        r = 0\n",
    "[print(*i) for i in a]   "
   ]
  },
  {
   "cell_type": "code",
   "execution_count": null,
   "metadata": {},
   "outputs": [],
   "source": []
  }
 ],
 "metadata": {
  "kernelspec": {
   "display_name": "Python 3",
   "language": "python",
   "name": "python3"
  }
 },
 "nbformat": 4,
 "nbformat_minor": 4
}
