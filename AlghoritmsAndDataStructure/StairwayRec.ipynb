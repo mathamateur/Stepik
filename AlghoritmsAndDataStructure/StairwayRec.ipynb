{
 "cells": [
  {
   "cell_type": "code",
   "execution_count": 14,
   "metadata": {},
   "outputs": [
    {
     "name": "stdout",
     "output_type": "stream",
     "text": [
      "6\n",
      "0 0 0 4 6 -5\n",
      "5\n"
     ]
    }
   ],
   "source": [
    "def stairway(s):\n",
    "    if d[s] == -inf:\n",
    "        if s == 0:\n",
    "            d[s] = st[s]\n",
    "        elif s == 1:\n",
    "            d[s] = max(st[s]+st[s-1],st[s])\n",
    "        else:\n",
    "            d[s] = max(stairway(s-1),stairway(s-2)) + st[s]\n",
    "    return d[s]\n",
    "\n",
    "n = int(input())\n",
    "st = list(map(int,input().split()))\n",
    "inf = 10**7\n",
    "d = [-inf] * n\n",
    "print(stairway(n-1))"
   ]
  },
  {
   "cell_type": "code",
   "execution_count": null,
   "metadata": {},
   "outputs": [],
   "source": []
  }
 ],
 "metadata": {
  "kernelspec": {
   "display_name": "Python 3",
   "language": "python",
   "name": "python3"
  },
  "language_info": {
   "codemirror_mode": {
    "name": "ipython",
    "version": 3
   },
   "file_extension": ".py",
   "mimetype": "text/x-python",
   "name": "python",
   "nbconvert_exporter": "python",
   "pygments_lexer": "ipython3",
   "version": "3.7.4"
  }
 },
 "nbformat": 4,
 "nbformat_minor": 4
}
