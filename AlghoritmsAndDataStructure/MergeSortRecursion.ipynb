{
 "cells": [
  {
   "cell_type": "code",
   "execution_count": 6,
   "metadata": {},
   "outputs": [
    {
     "name": "stdout",
     "output_type": "stream",
     "text": [
      "3\n",
      "2 3 1\n",
      "2\n"
     ]
    }
   ],
   "source": [
    "def sort(l,r):\n",
    "    if l < r:\n",
    "        return merge(sort(l,(l+r)//2),sort((l+r)//2+1,r))\n",
    "    else:\n",
    "        return [mas[l]]\n",
    "                     \n",
    "def merge(a,b):\n",
    "    global k\n",
    "    i,j,res = 0,0,[]\n",
    "    p = len(a)\n",
    "    q = len(b)\n",
    "    while True:\n",
    "        if min(p-i,q-j) == 0:\n",
    "            if p - i == 0:\n",
    "                res += b[j:]\n",
    "            else:\n",
    "                res += a[i:]\n",
    "            break\n",
    "        if b[j] < a[i]:\n",
    "            res.append(b[j])\n",
    "            k += len(a[i:])\n",
    "            j += 1\n",
    "        else:\n",
    "            res.append(a[i])\n",
    "            i += 1\n",
    "    return res\n",
    "            \n",
    "                     \n",
    "n = int(input())\n",
    "mas = list(map(int,input().split()))\n",
    "k = 0\n",
    "sort(0,n-1)\n",
    "print(k)"
   ]
  },
  {
   "cell_type": "code",
   "execution_count": null,
   "metadata": {},
   "outputs": [],
   "source": []
  }
 ],
 "metadata": {
  "kernelspec": {
   "display_name": "Python 3",
   "language": "python",
   "name": "python3"
  },
  "language_info": {
   "codemirror_mode": {
    "name": "ipython",
    "version": 3
   },
   "file_extension": ".py",
   "mimetype": "text/x-python",
   "name": "python",
   "nbconvert_exporter": "python",
   "pygments_lexer": "ipython3",
   "version": "3.7.4"
  }
 },
 "nbformat": 4,
 "nbformat_minor": 4
}
